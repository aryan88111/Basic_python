{
 "cells": [
  {
   "cell_type": "code",
   "execution_count": null,
   "id": "1ffad34a",
   "metadata": {},
   "outputs": [
    {
     "name": "stdout",
     "output_type": "stream",
     "text": [
      "[20, 39, 34]\n",
      "[39, 34, 554]\n"
     ]
    }
   ],
   "source": [
    "myList=[10,20,39,34,554]\n",
    "# sequence[start:stop:step]\n",
    "print(myList[1:4])\n",
    "#  it will run  from last index to n-3;\n",
    "print(myList[-3:])"
   ]
  },
  {
   "cell_type": "code",
   "execution_count": 3,
   "id": "75b8c23c",
   "metadata": {},
   "outputs": [
    {
     "name": "stdout",
     "output_type": "stream",
     "text": [
      "Python is amazing.\n",
      "I love coding.\n",
      "Git is powerful.\n"
     ]
    }
   ],
   "source": [
    "# Open the file and read its lines\n",
    "with open(\"input.txt\", \"r\") as file:\n",
    "    lines = file.readlines()  # returns a list of lines\n",
    "\n",
    "# Remove newline characters\n",
    "lines = [line.strip() for line in lines]\n",
    "\n",
    "# Slice the first 3 lines\n",
    "sliced_lines = lines[:3]\n",
    "\n",
    "# Print the result\n",
    "for line in sliced_lines:\n",
    "    print(line)\n"
   ]
  },
  {
   "cell_type": "code",
   "execution_count": 4,
   "id": "f35ecff6",
   "metadata": {},
   "outputs": [
    {
     "name": "stdout",
     "output_type": "stream",
     "text": [
      "Python is amazing.\n",
      "I\n"
     ]
    }
   ],
   "source": [
    "with open(\"input.txt\", \"r\") as file:\n",
    "    content = file.read()\n",
    "\n",
    "# Slice the first 20 characters\n",
    "sliced_content = content[:20]\n",
    "\n",
    "print(sliced_content)\n"
   ]
  },
  {
   "cell_type": "code",
   "execution_count": null,
   "id": "57a2574d",
   "metadata": {},
   "outputs": [
    {
     "name": "stdout",
     "output_type": "stream",
     "text": [
      "  Hello, World  \n",
      "Hello Pytho\n",
      "Hello Python\n"
     ]
    }
   ],
   "source": [
    "text = \"  Hello, World  \"\n",
    "print(text.strip(\"\"))   # Output: Hello, World\n",
    "#   it remove the spaces from the start and end — not from the middle.\n",
    "# You can also use:\n",
    "\n",
    "#     lstrip() → removes from the left\n",
    "\n",
    "#     rstrip() → removes from the right\n",
    "\n",
    "s = \"  Hello Python  \"\n",
    "\n",
    "print(s[2:13])      # Output: \"Hello Pyth\" slicing \n",
    "print(s.strip())    # Output: \"Hello Python\"\n"
   ]
  },
  {
   "cell_type": "code",
   "execution_count": 11,
   "id": "9b67b4f2",
   "metadata": {},
   "outputs": [
    {
     "name": "stdout",
     "output_type": "stream",
     "text": [
      "Line 1:\n",
      "  Original: 'Python is amazing.'\n",
      "  Stripped: 'Python is amazing.'\n",
      "  Sliced:   'Python is '\n",
      "----------------------------------------\n",
      "Line 2:\n",
      "  Original: 'I love coding.'\n",
      "  Stripped: 'I love coding.'\n",
      "  Sliced:   'I love cod'\n",
      "----------------------------------------\n",
      "Line 3:\n",
      "  Original: 'Git is powerful.'\n",
      "  Stripped: 'Git is powerful.'\n",
      "  Sliced:   'Git is pow'\n",
      "----------------------------------------\n",
      "Line 4:\n",
      "  Original: 'React is fun.'\n",
      "  Stripped: 'React is fun.'\n",
      "  Sliced:   'React is f'\n",
      "----------------------------------------\n",
      "Line 5:\n",
      "  Original: 'JavaScript rocks.'\n",
      "  Stripped: 'JavaScript rocks.'\n",
      "  Sliced:   'JavaScript'\n",
      "----------------------------------------\n"
     ]
    }
   ],
   "source": [
    "# Open the index.txt file\n",
    "with open(\"input.txt\", \"r\") as file:\n",
    "    lines = file.readlines()\n",
    "\n",
    "# Strip and slice each line\n",
    "for i, line in enumerate(lines, start=1):\n",
    "    stripped_line = line.strip()       # Remove leading/trailing spaces\n",
    "    sliced_line = stripped_line[:10]   # Slice first 10 characters\n",
    "\n",
    "    print(f\"Line {i}:\")\n",
    "    print(f\"  Original: '{line.rstrip()}'\")\n",
    "    print(f\"  Stripped: '{stripped_line}'\")\n",
    "    print(f\"  Sliced:   '{sliced_line}'\")\n",
    "    print(\"-\" * 40)\n"
   ]
  },
  {
   "cell_type": "code",
   "execution_count": 15,
   "id": "5a3e88d9",
   "metadata": {},
   "outputs": [
    {
     "name": "stdout",
     "output_type": "stream",
     "text": [
      "2 apple\n",
      "3 banana\n",
      "4 cherry\n"
     ]
    }
   ],
   "source": [
    "fruits = [\"apple\", \"banana\", \"cherry\"]\n",
    "\n",
    "for index, fruit in enumerate(fruits,start=2):\n",
    "    print(index, fruit)\n"
   ]
  },
  {
   "cell_type": "code",
   "execution_count": null,
   "id": "ec6bda92",
   "metadata": {},
   "outputs": [
    {
     "name": "stdout",
     "output_type": "stream",
     "text": [
      "0 apple\n",
      "1 banana\n",
      "2 cherry\n"
     ]
    }
   ],
   "source": [
    "#  old way of doing ittration  - finding the  lenght of fruit the looping  it from i  to the lenght of the fruits (array) \n",
    "\n",
    "\n",
    "for i in range(len(fruits)):\n",
    "    print(i, fruits[i])\n"
   ]
  },
  {
   "cell_type": "code",
   "execution_count": 19,
   "id": "c54f526f",
   "metadata": {},
   "outputs": [
    {
     "name": "stdout",
     "output_type": "stream",
     "text": [
      "10 red\n",
      "11 blue\n",
      "12 green\n",
      "red\n",
      "4\n",
      "10 red\n",
      "11 black\n",
      "12 green\n",
      "13 yellow\n"
     ]
    }
   ],
   "source": [
    "colors = [\"red\", \"blue\", \"green\"]\n",
    "for i, color in enumerate(colors, start=10):\n",
    "    print(i, color)\n",
    "    \n",
    "colors.append(\"yellow\")    # Add an item\n",
    "colors[1] = \"black\"        # Modify an item\n",
    "print(colors[0])           # Access by index\n",
    "print(len(colors)) # Length of list\n",
    "\n",
    "for i, color in enumerate(colors, start=10):\n",
    "    print(i, color)\n",
    "    \n"
   ]
  },
  {
   "cell_type": "code",
   "execution_count": null,
   "id": "cf7f308d",
   "metadata": {},
   "outputs": [
    {
     "name": "stdout",
     "output_type": "stream",
     "text": [
      "1\n",
      "2\n",
      "0 3\n",
      "1 4\n",
      "2 5\n",
      "3 6\n",
      "4 7\n",
      "5 8\n",
      "6 9\n"
     ]
    }
   ],
   "source": [
    "def count_up_to(n):\n",
    "    count = 1\n",
    "    while count <= n:\n",
    "        yield count # Generators are functions or expressions that return iterators using yield.\n",
    "        count += 1\n",
    "\n",
    "gen = count_up_to(9)\n",
    "print(next(gen))  # 1\n",
    "print(next(gen))  # 2\n",
    "\n",
    "for i,number in enumerate(gen):\n",
    "    print(i,number)\n"
   ]
  },
  {
   "cell_type": "code",
   "execution_count": 30,
   "id": "9eb04b29",
   "metadata": {},
   "outputs": [
    {
     "name": "stdout",
     "output_type": "stream",
     "text": [
      "Python is amazing.\n",
      "I love coding.\n",
      "Git is powerful.\n",
      "React is fun.\n",
      "JavaScript rocks.\n"
     ]
    }
   ],
   "source": [
    "with open(\"input.txt\") as f:\n",
    "    \n",
    "    # print(f,\"hello\",line)\n",
    "    for line in f:         # file is its own iterator\n",
    "        print(line.strip())\n"
   ]
  },
  {
   "cell_type": "code",
   "execution_count": 31,
   "id": "5036d0f3",
   "metadata": {},
   "outputs": [
    {
     "name": "stdout",
     "output_type": "stream",
     "text": [
      "0\n",
      "[0, 1, 2]\n"
     ]
    }
   ],
   "source": [
    "r = range(3)\n",
    "print(next(iter(r)))  # 0\n",
    "print(list(r))        # [0, 1, 2]\n"
   ]
  },
  {
   "cell_type": "code",
   "execution_count": null,
   "id": "60afec22",
   "metadata": {},
   "outputs": [
    {
     "name": "stdout",
     "output_type": "stream",
     "text": [
      "Alice 85\n",
      "Bob 90\n",
      "Charlie 95\n"
     ]
    }
   ],
   "source": [
    "names = [\"Alice\", \"Bob\", \"Charlie\"]\n",
    "scores = [85, 90, 95,8]\n",
    "\n",
    "\n",
    "\n",
    "# zip can run multiple iteratable  together  but only  till the min-iteratable index length\n",
    "\n",
    "for name, score in zip(names, scores):\n",
    "    print(name, score)\n",
    "\n",
    "# Output:\n",
    "# Alice 85\n",
    "# Bob 90\n",
    "# Charlie 95\n"
   ]
  },
  {
   "cell_type": "code",
   "execution_count": 42,
   "id": "858a8d0f",
   "metadata": {},
   "outputs": [
    {
     "name": "stdout",
     "output_type": "stream",
     "text": [
      "[2, 4, 6, 0, 4, 4, 62]\n"
     ]
    }
   ],
   "source": [
    "nums = [1, 2, 3, 4,6,33,443,0,43,4,4,62]\n",
    "\n",
    "# Filters items based on a condition (function returns True/False) ,return filter object (iterator)\n",
    "evens = filter(lambda x: x % 2 == 0, nums)\n",
    "\n",
    "print(list(evens))  # [2, 4]\n"
   ]
  },
  {
   "cell_type": "code",
   "execution_count": null,
   "id": "eea80786",
   "metadata": {},
   "outputs": [
    {
     "name": "stdout",
     "output_type": "stream",
     "text": [
      "[1, 4, 9]\n"
     ]
    }
   ],
   "source": [
    "\n",
    "nums = [1, 2, 3]\n",
    "# Map Applies a function to each item of an iterable, returns map object (iterator)\n",
    "squares = map(lambda x: x**2, nums)\n",
    "\n",
    "print(list(squares))  # [1, 4, 9]\n"
   ]
  },
  {
   "cell_type": "code",
   "execution_count": 43,
   "id": "12714134",
   "metadata": {},
   "outputs": [
    {
     "name": "stdout",
     "output_type": "stream",
     "text": [
      "apple\n",
      "banana\n",
      "cherry\n",
      "0\n",
      "1\n",
      "2\n",
      "3\n",
      "4\n"
     ]
    }
   ],
   "source": [
    "#for loop\n",
    "\n",
    "# for variable in iterable:\n",
    "    # block of code\n",
    "    \n",
    "#for loop through list \n",
    "\n",
    "fruits = [\"apple\", \"banana\", \"cherry\"]\n",
    "for fruit in fruits:\n",
    "    print(fruit)\n",
    "    \n",
    " #for loop with range    \n",
    "for i in range(5):\n",
    "    print(i)   # 0 1 2 3 4\n",
    " \n"
   ]
  },
  {
   "cell_type": "code",
   "execution_count": null,
   "id": "12bc34e5",
   "metadata": {},
   "outputs": [
    {
     "name": "stdout",
     "output_type": "stream",
     "text": [
      "Count is: 0\n",
      "Count is: 1\n",
      "Count is: 2\n"
     ]
    }
   ],
   "source": [
    "#while loop \n",
    "\n",
    "#syntax\n",
    "\n",
    "#while condition:\n",
    "    # block of code\n",
    "    \n",
    "    \n",
    "count = 0\n",
    "while count < 3:\n",
    "    print(\"Count is:\", count)\n",
    "    count += 1\n",
    "    \n",
    "    \n",
    "    \n",
    "\n"
   ]
  },
  {
   "cell_type": "code",
   "execution_count": 45,
   "id": "c80971d3",
   "metadata": {},
   "outputs": [
    {
     "name": "stdout",
     "output_type": "stream",
     "text": [
      "0 0\n",
      "0 1\n",
      "0 2\n",
      "1 0\n",
      "1 1\n",
      "1 2\n"
     ]
    }
   ],
   "source": [
    "#nexted loop\n",
    " \n",
    "# using range\n",
    "\n",
    "for i in range(2):       # Outer loop\n",
    "    for j in range(3):   # Inner loop\n",
    "        print(i, j)\n",
    " \n",
    " \n",
    " "
   ]
  },
  {
   "cell_type": "code",
   "execution_count": 46,
   "id": "9afb9061",
   "metadata": {},
   "outputs": [
    {
     "name": "stdout",
     "output_type": "stream",
     "text": [
      "name Aryan\n",
      "age 21\n"
     ]
    }
   ],
   "source": [
    "#loop through dictionaries just like hashMap key value pairs\n",
    "\n",
    "student = {\"name\": \"Aryan\", \"age\": 21}\n",
    "\n",
    "for key, value in student.items():\n",
    "    print(key, value)\n"
   ]
  },
  {
   "cell_type": "code",
   "execution_count": 53,
   "id": "a5ada1a7",
   "metadata": {},
   "outputs": [
    {
     "name": "stdout",
     "output_type": "stream",
     "text": [
      "0 03 \n",
      "1 13 \n",
      "2 23 \n",
      "3 33 \n",
      "4 43 \n",
      "Loop finished!\n"
     ]
    }
   ],
   "source": [
    "\n",
    "#loops with else\n",
    "\n",
    "for i in range(5):\n",
    "    print(i,end=\" \")\n",
    "    print(i,end=\"3 \\n\")\n",
    "else:\n",
    "    print(\"Loop finished!\")\n",
    "\n"
   ]
  },
  {
   "cell_type": "code",
   "execution_count": 62,
   "id": "7f91b53b",
   "metadata": {},
   "outputs": [
    {
     "name": "stdout",
     "output_type": "stream",
     "text": [
      "ABC\n",
      "['A', 'B', 'C']\n"
     ]
    }
   ],
   "source": [
    "print(\"\".join([\"A\", \"B\", \"C\"]))  # Output: ABC\n",
    "print([char for char in \"ABC\"])  # Output: ['A', 'B', 'C']\n",
    "\n"
   ]
  },
  {
   "cell_type": "code",
   "execution_count": null,
   "id": "b2b4581e",
   "metadata": {},
   "outputs": [
    {
     "name": "stdout",
     "output_type": "stream",
     "text": [
      "Python is amazing.\n",
      "I love coding.\n",
      "Git is powerful.\n",
      "React is fun.\n",
      "JavaScript rocks.\n",
      "\n",
      "step 1\n"
     ]
    }
   ],
   "source": [
    "# Open file in read mode\n",
    "with open(\"input.txt\", \"r\") as file:\n",
    "    content = file.read()\n",
    "    print(content)\n",
    "\n",
    "with open(\"output.txt\", \"w\") as file:\n",
    "    print(\"step 1\")\n",
    "    file.write(\"This is written to the file. by aryan \\n\")\n",
    "    \n",
    "with open(\"output.txt\", \"a\") as file:\n",
    "    print(\"step 2\")\n",
    "    file.write(\"kese hai aap log\")\n",
    "    \n",
    "with open(\"output.txt\", \"r+\") as file:\n",
    "    print(\"step 3\")\n",
    "    file.write(\"jai ho\")\n"
   ]
  },
  {
   "cell_type": "code",
   "execution_count": 77,
   "id": "fede172a",
   "metadata": {},
   "outputs": [
    {
     "name": "stdout",
     "output_type": "stream",
     "text": [
      "Hello Aryan\n",
      "b'Hello Aryan'\n"
     ]
    }
   ],
   "source": [
    "text = \"Hello Aryan\"\n",
    "print(text)\n",
    "byte_text = text.encode(\"utf-8\")  # Convert to bytes\n",
    "print(byte_text)\n",
    "with open(\"hello.txt\", \"wb\") as f:\n",
    "    f.write(byte_text)\n"
   ]
  },
  {
   "cell_type": "code",
   "execution_count": 78,
   "id": "930137a0",
   "metadata": {},
   "outputs": [
    {
     "name": "stdout",
     "output_type": "stream",
     "text": [
      "1c43857df8562504df8078810c9c23239a38d1b0a87608f4b3c9061e9a83dc85\n"
     ]
    }
   ],
   "source": [
    "import hashlib\n",
    "\n",
    "# Step 2: hash using sha256\n",
    "hashed = hashlib.sha256(byte_text).hexdigest()\n",
    "print(hashed)"
   ]
  },
  {
   "cell_type": "code",
   "execution_count": 80,
   "id": "ecfb314a",
   "metadata": {},
   "outputs": [
    {
     "name": "stdout",
     "output_type": "stream",
     "text": [
      "b'gAAAAABobiAt_yZ-t0jL58O6uv_51rXmtx9NmneCUyJjvK0OZyQYCNEJXjlIGh0p5tyZnzeOyCMpCAwMLeePaT08xTnM7uaUlg=='\n",
      "hello123\n"
     ]
    }
   ],
   "source": [
    "from cryptography.fernet import Fernet\n",
    "\n",
    "key = Fernet.generate_key()\n",
    "cipher = Fernet(key)\n",
    "\n",
    "token = cipher.encrypt(b\"hello123\")  # Encrypt\n",
    "print(token)\n",
    "original = cipher.decrypt(token)         # Decrypt\n",
    "\n",
    "print(original.decode())  # hello123\n"
   ]
  },
  {
   "cell_type": "code",
   "execution_count": 86,
   "id": "f6322214",
   "metadata": {},
   "outputs": [
    {
     "name": "stdout",
     "output_type": "stream",
     "text": [
      "<Response [200]>\n"
     ]
    }
   ],
   "source": [
    "from io import BytesIO\n",
    "from PIL import Image\n",
    "import requests\n",
    "\n",
    "# Direct image URL (replace this with a valid Unsplash image link)\n",
    "image_url = \"https://images.unsplash.com/photo-1506748686214-e9df14d4d9d0?auto=format&fit=crop&w=800&q=80\"\n",
    "\n",
    "response = requests.get(image_url)\n",
    "print(response)\n",
    "\n",
    "# Check for success\n",
    "if response.status_code == 200 and response.headers[\"Content-Type\"].startswith(\"image\"):\n",
    "    img_bytes = BytesIO(response.content)\n",
    "    img = Image.open(img_bytes)\n",
    "    img.show()\n",
    "else:\n",
    "    print(\"Failed to download a valid image.\")\n",
    "\n"
   ]
  },
  {
   "cell_type": "code",
   "execution_count": 1,
   "id": "2fc52bac",
   "metadata": {},
   "outputs": [
    {
     "name": "stdout",
     "output_type": "stream",
     "text": [
      "b'hello aryann '\n",
      "hello aryann \n"
     ]
    }
   ],
   "source": [
    "from io import BytesIO\n",
    "#f is hello.txt\n",
    "# Step 1: Create a BytesIO object\n",
    "f = BytesIO()\n",
    "\n",
    "hi=b\"hello aryann \"\n",
    "\n",
    "# Step 2: Write some bytes\n",
    "f.write(hi)   # Must be bytes (note the 'b' prefix)\n",
    "\n",
    "# Step 3: Move cursor to start\n",
    "f.seek(0)\n",
    "\n",
    "# Step 4: Read the content\n",
    "data = f.read()\n",
    "print(data)           # Output: b'Hello Aryan!'\n",
    "print(data.decode())  # Output: Hello Aryan!\n"
   ]
  },
  {
   "cell_type": "code",
   "execution_count": 2,
   "id": "06c503e1",
   "metadata": {},
   "outputs": [
    {
     "name": "stdout",
     "output_type": "stream",
     "text": [
      "Python is amazing.\n",
      "I love coding.\n",
      "Git is powerful.\n",
      "React is fun.\n",
      "JavaScript rocks.\n",
      "\n"
     ]
    }
   ],
   "source": [
    "with open(\"input.txt\", \"r\") as file:\n",
    "    content = file.read()\n",
    "    print(content)\n",
    "# File automatically closed after block\n"
   ]
  },
  {
   "cell_type": "code",
   "execution_count": null,
   "id": "7d3ccb1d",
   "metadata": {},
   "outputs": [
    {
     "name": "stdout",
     "output_type": "stream",
     "text": [
      "Not a valid file type.\n",
      "None\n"
     ]
    }
   ],
   "source": [
    "def read_file(filename):\n",
    "    with open(filename, \"r\") as f:\n",
    "     \n",
    "        content= f.read()\n",
    "    return content.strip()\n",
    "\n",
    "print(read_file(\"input.txt\"))\n"
   ]
  },
  {
   "cell_type": "code",
   "execution_count": 17,
   "id": "bdb1bb55",
   "metadata": {},
   "outputs": [
    {
     "name": "stdout",
     "output_type": "stream",
     "text": [
      "✅ Valid file type\n"
     ]
    }
   ],
   "source": [
    "import os\n",
    "\n",
    "filename = \"input.txt\"  # or any file name\n",
    "\n",
    "if filename.endswith((\".pdf\",\".txt\", \".json\", \".xlsx\", \".csv\")):\n",
    "    print(\"✅ Valid file type\")\n",
    "else:\n",
    "    print(\"❌ Invalid file type\")\n"
   ]
  },
  {
   "cell_type": "code",
   "execution_count": 17,
   "id": "061ea097",
   "metadata": {},
   "outputs": [
    {
     "name": "stdout",
     "output_type": "stream",
     "text": [
      "True\n",
      "True\n",
      "True\n",
      "True\n",
      "False\n",
      "False\n"
     ]
    }
   ],
   "source": [
    "import os\n",
    "\n",
    "def is_valid_file(filename):\n",
    "    # Get only the last extension\n",
    "    _, ext = os.path.splitext(filename)\n",
    "    return ext.lower() in [\".pdf\", \".json\", \".xlsx\", \".csv\"]\n",
    "\n",
    "# Test cases\n",
    "print(is_valid_file(\"ayan/input.xlsx\"))          # ✅ True\n",
    "print(is_valid_file(\"input.xlxs.pdf\"))      # ✅ True (.pdf is valid)\n",
    "print(is_valid_file(\"data.backup.json\"))    # ✅ True (.json is valid)\n",
    "print(is_valid_file(\"report.txt.pdf\"))      # ✅ True (.pdf is valid)\n",
    "print(is_valid_file(\"unknown.exe\"))         # ❌ False\n",
    "print(is_valid_file(\"notes.csv.txt\"))       # ❌ False (.txt is invalid)\n"
   ]
  },
  {
   "cell_type": "code",
   "execution_count": 1,
   "id": "f839dee9",
   "metadata": {},
   "outputs": [
    {
     "name": "stdout",
     "output_type": "stream",
     "text": [
      "data.csv\n"
     ]
    }
   ],
   "source": [
    "filename = \"///data.csv///\"\n",
    "cleaned = filename.strip(\"/\")\n",
    "print(cleaned)  # Output: \"data.csv\"\n"
   ]
  },
  {
   "cell_type": "code",
   "execution_count": 15,
   "id": "4edc7139",
   "metadata": {},
   "outputs": [
    {
     "name": "stdout",
     "output_type": "stream",
     "text": [
      "True\n",
      "True\n",
      "True\n",
      "True\n",
      "False\n",
      "False\n"
     ]
    }
   ],
   "source": [
    "import os\n",
    "\n",
    "def is_valid_file(filename):\n",
    "    # Get only the last extension\n",
    "    ext = os.path.basename(filename).split(\".\")[-1].lower()\n",
    "    return ext in [\"pdf\", \"json\", \"xlsx\", \"csv\"]\n",
    "\n",
    "# Test cases\n",
    "print(is_valid_file(\"input.xlsx\"))          # ✅ True\n",
    "print(is_valid_file(\"input.xlxs.pdf\"))      # ✅ True (.pdf is valid)\n",
    "print(is_valid_file(\"data.backup.json\"))    # ✅ True (.json is valid)\n",
    "print(is_valid_file(\"report.txt.pdf\"))      # ✅ True (.pdf is valid)\n",
    "print(is_valid_file(\"unknown.exe\"))         # ❌ False\n",
    "print(is_valid_file(\"notes.csv.txt\"))       # ❌ False (.txt is invalid)"
   ]
  }
 ],
 "metadata": {
  "kernelspec": {
   "display_name": "Python 3",
   "language": "python",
   "name": "python3"
  },
  "language_info": {
   "codemirror_mode": {
    "name": "ipython",
    "version": 3
   },
   "file_extension": ".py",
   "mimetype": "text/x-python",
   "name": "python",
   "nbconvert_exporter": "python",
   "pygments_lexer": "ipython3",
   "version": "3.9.6"
  }
 },
 "nbformat": 4,
 "nbformat_minor": 5
}
