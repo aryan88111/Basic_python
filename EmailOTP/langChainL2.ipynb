{
 "cells": [
  {
   "cell_type": "code",
   "execution_count": 31,
   "id": "94fd6464",
   "metadata": {},
   "outputs": [],
   "source": [
    "import os\n",
    "from dotenv import load_dotenv\n",
    "from langchain.prompts import ChatPromptTemplate\n",
    "from langchain_google_genai import ChatGoogleGenerativeAI\n",
    "from langchain.schema.output_parser import StrOutputParser"
   ]
  },
  {
   "cell_type": "code",
   "execution_count": 32,
   "id": "5cd937c6",
   "metadata": {},
   "outputs": [],
   "source": [
    "# Load the Gemini API Key from .env\n",
    "load_dotenv()\n",
    "api_key = os.getenv(\"GEMINI_API_KEY\")"
   ]
  },
  {
   "cell_type": "code",
   "execution_count": 33,
   "id": "9bfb1662",
   "metadata": {},
   "outputs": [],
   "source": [
    "# Create prompt\n",
    "prompt = ChatPromptTemplate.from_template(\"Tell a joke about {topic}\")\n",
    "\n",
    "# Gemini Pro model via LangChain official integration\n",
    "model = ChatGoogleGenerativeAI(\n",
    "    model=\"gemini-2.5-pro\",\n",
    "    google_api_key=api_key\n",
    ")\n",
    "\n",
    "# Output parser\n",
    "output_parser = StrOutputParser()"
   ]
  },
  {
   "cell_type": "code",
   "execution_count": 34,
   "id": "41e9c36e",
   "metadata": {},
   "outputs": [],
   "source": [
    "chain= prompt | model | output_parser"
   ]
  },
  {
   "cell_type": "code",
   "execution_count": 35,
   "id": "dedf3028",
   "metadata": {},
   "outputs": [
    {
     "name": "stdout",
     "output_type": "stream",
     "text": [
      "Of course! Here are a couple, from classic to a bit more nerdy:\n",
      "\n",
      "**The Classic:**\n",
      "\n",
      "Why do Python programmers wear glasses?\n",
      "\\\n",
      "... Because they can't C#.\n",
      "\n",
      "---\n",
      "\n",
      "**For the Programmers:**\n",
      "\n",
      "A Python object is in a therapy session.\n",
      "\n",
      "The therapist asks, \"So, what brings you in today?\"\n",
      "\n",
      "The object sighs, \"I just feel so empty. I have no sense of `self`.\"\n"
     ]
    }
   ],
   "source": [
    "result=chain.invoke({\"topic\":\"python\"})\n",
    "print(result)\n"
   ]
  },
  {
   "cell_type": "code",
   "execution_count": 36,
   "id": "bfca4e25",
   "metadata": {},
   "outputs": [],
   "source": [
    "from PyPDF2 import PdfMerger\n",
    "from fpdf import FPDF\n",
    "\n",
    "# 1. Create the new content as a new PDF\n",
    "pdf_new = FPDF()\n",
    "pdf_new.add_page()\n",
    "pdf_new.set_font(\"Arial\", size=12)\n",
    "for line in result.split('\\n'):\n",
    "    pdf_new.multi_cell(0, 5, line)\n",
    "pdf_new.output(\"new_part.pdf\")\n",
    "\n",
    "# 2. Merge with existing PDF\n",
    "merger = PdfMerger()\n",
    "merger.append(\"merged_output.pdf\")\n",
    "merger.append(\"new_part.pdf\")\n",
    "merger.write(\"merged_output.pdf\")\n",
    "merger.close()"
   ]
  }
 ],
 "metadata": {
  "kernelspec": {
   "display_name": "3.12.11",
   "language": "python",
   "name": "python3"
  },
  "language_info": {
   "codemirror_mode": {
    "name": "ipython",
    "version": 3
   },
   "file_extension": ".py",
   "mimetype": "text/x-python",
   "name": "python",
   "nbconvert_exporter": "python",
   "pygments_lexer": "ipython3",
   "version": "3.12.11"
  }
 },
 "nbformat": 4,
 "nbformat_minor": 5
}
