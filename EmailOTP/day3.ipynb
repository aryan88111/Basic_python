{
 "cells": [
  {
   "cell_type": "code",
   "execution_count": 4,
   "id": "609fcc3c",
   "metadata": {},
   "outputs": [
    {
     "name": "stdout",
     "output_type": "stream",
     "text": [
      "object is being deconstructed\n"
     ]
    }
   ],
   "source": [
    "class Person:\n",
    "    \n",
    "    def __init__(self,name,age):\n",
    "        self.name=name\n",
    "        self.age=age\n",
    "        \n",
    "    def __del__(self):\n",
    "        print(\"object is being deconstructed\") \n",
    "        \n",
    "        \n",
    "p=Person(\"Aryan \",23)    "
   ]
  },
  {
   "cell_type": "code",
   "execution_count": 14,
   "id": "29bfe64f",
   "metadata": {},
   "outputs": [
    {
     "name": "stdout",
     "output_type": "stream",
     "text": [
      "X:40 Y:120\n",
      "X:10 Y:30\n",
      "[X:10 Y:30, X:30 Y:90, X:40 Y:120, X:10 Y:30]\n",
      "4\n"
     ]
    }
   ],
   "source": [
    "class Vector:\n",
    "    def __init__(self,x,y):\n",
    "        self.x=x\n",
    "        self.y=y\n",
    "        \n",
    "        \n",
    "    def __add__(self,others):\n",
    "        return Vector(self.x+others.x,self.y+others.y)\n",
    "    \n",
    "    \n",
    "    def __repr__(self):\n",
    "        return f\"X:{self.x} Y:{self.y}\"    \n",
    "    \n",
    "    \n",
    "v1=Vector(10,30)    \n",
    "v2=Vector(30,90)  \n",
    "\n",
    "v3=v1+v2\n",
    "v4=v1=v1\n",
    "\n",
    "sumss=[]\n",
    "\n",
    "sumss.append(v1)\n",
    "sumss.append(v2)\n",
    "sumss.append(v3)\n",
    "sumss.append(v4)\n",
    "\n",
    "print(v3)  \n",
    "print(v4)  \n",
    "print(  sumss)  \n",
    "print(  len(sumss))  \n",
    "\n",
    "\n",
    "\n"
   ]
  },
  {
   "cell_type": "code",
   "execution_count": 25,
   "id": "d60f9272",
   "metadata": {},
   "outputs": [
    {
     "name": "stdout",
     "output_type": "stream",
     "text": [
      "Array: [1 2 3 7 8]\n",
      "Data type: int8\n",
      "Number of elements: 5\n",
      "Memory size in bytes: 5\n"
     ]
    }
   ],
   "source": [
    "import numpy as np\n",
    "\n",
    "arr = np.array([1, 2, 3,7,8], dtype=np.int8)  # int8 = 1 byte per element\n",
    "\n",
    "print(\"Array:\", arr)\n",
    "print(\"Data type:\", arr.dtype)\n",
    "print(\"Number of elements:\", arr.size)\n",
    "print(\"Memory size in bytes:\", arr.nbytes)\n",
    "\n",
    "\n",
    "\n",
    "\n"
   ]
  },
  {
   "cell_type": "code",
   "execution_count": 26,
   "id": "9e90e31e",
   "metadata": {},
   "outputs": [
    {
     "name": "stdout",
     "output_type": "stream",
     "text": [
      "int8 array: [1 2 3]\n",
      "Size (bytes): 3 | Each item: 1\n",
      "uint16 array: [1 2 3]\n",
      "Size (bytes): 6 | Each item: 2\n",
      "──────────────────────────────────────────────────\n",
      "float32 array: [1. 2. 3.]\n",
      "Size (bytes): 12 | Each item: 4\n",
      "float64 array: [1. 2. 3.]\n",
      "Size (bytes): 24 | Each item: 8\n",
      "──────────────────────────────────────────────────\n",
      "complex64 array: [1.+2.j 3.+4.j]\n",
      "Size (bytes): 16 | Each item: 8\n",
      "──────────────────────────────────────────────────\n",
      "bool array: [ True False  True]\n",
      "Size (bytes): 3 | Each item: 1\n",
      "──────────────────────────────────────────────────\n",
      "ASCII string array: [b'Aryan' b'GPT']\n",
      "Size (bytes): 10 | Each item: 5\n",
      "Unicode string array: ['Aryan' 'GPT']\n",
      "Size (bytes): 40 | Each item: 20\n",
      "──────────────────────────────────────────────────\n",
      "Object array: [1 'hello' True]\n",
      "Size per item may vary; object dtype is flexible\n",
      "Total estimated size: 24\n",
      "Each item size: 8\n",
      "──────────────────────────────────────────────────\n",
      "Manual check - dtype 'int32': 4 bytes\n",
      "Manual check - dtype 'U10': 40 bytes (10×4 = 40)\n"
     ]
    }
   ],
   "source": [
    "import numpy as np\n",
    "\n",
    "# ─────────────────────────────────────────────\n",
    "# 🔢 Integer types (signed and unsigned)\n",
    "int_arr = np.array([1, 2, 3], dtype=np.int8)     # 1 byte per element\n",
    "print(\"int8 array:\", int_arr)\n",
    "print(\"Size (bytes):\", int_arr.nbytes, \"| Each item:\", int_arr.itemsize)\n",
    "\n",
    "uint_arr = np.array([1, 2, 3], dtype=np.uint16)  # 2 bytes per element\n",
    "print(\"uint16 array:\", uint_arr)\n",
    "print(\"Size (bytes):\", uint_arr.nbytes, \"| Each item:\", uint_arr.itemsize)\n",
    "\n",
    "print(\"─\" * 50)\n",
    "\n",
    "# ─────────────────────────────────────────────\n",
    "# 🌊 Float types\n",
    "float32_arr = np.array([1.0, 2.0, 3.0], dtype=np.float32)  # 4 bytes per element\n",
    "print(\"float32 array:\", float32_arr)\n",
    "print(\"Size (bytes):\", float32_arr.nbytes, \"| Each item:\", float32_arr.itemsize)\n",
    "\n",
    "float64_arr = np.array([1.0, 2.0, 3.0], dtype=np.float64)  # 8 bytes per element\n",
    "print(\"float64 array:\", float64_arr)\n",
    "print(\"Size (bytes):\", float64_arr.nbytes, \"| Each item:\", float64_arr.itemsize)\n",
    "\n",
    "print(\"─\" * 50)\n",
    "\n",
    "# ─────────────────────────────────────────────\n",
    "# 🔮 Complex types (real + imaginary)\n",
    "complex64_arr = np.array([1+2j, 3+4j], dtype=np.complex64)  # 8 bytes (2x float32)\n",
    "print(\"complex64 array:\", complex64_arr)\n",
    "print(\"Size (bytes):\", complex64_arr.nbytes, \"| Each item:\", complex64_arr.itemsize)\n",
    "\n",
    "print(\"─\" * 50)\n",
    "\n",
    "# ─────────────────────────────────────────────\n",
    "# ✅ Boolean type\n",
    "bool_arr = np.array([True, False, True], dtype=np.bool_)  # 1 byte per bool\n",
    "print(\"bool array:\", bool_arr)\n",
    "print(\"Size (bytes):\", bool_arr.nbytes, \"| Each item:\", bool_arr.itemsize)\n",
    "\n",
    "print(\"─\" * 50)\n",
    "\n",
    "# ─────────────────────────────────────────────\n",
    "# 🔤 Strings – ASCII (S) and Unicode (U)\n",
    "ascii_str_arr = np.array([b'Aryan', b'GPT'], dtype='S5')  # 5 ASCII chars per item\n",
    "print(\"ASCII string array:\", ascii_str_arr)\n",
    "print(\"Size (bytes):\", ascii_str_arr.nbytes, \"| Each item:\", ascii_str_arr.itemsize)\n",
    "\n",
    "unicode_str_arr = np.array(['Aryan', 'GPT'], dtype='U5')  # 5 Unicode chars per item (5×4 bytes)\n",
    "print(\"Unicode string array:\", unicode_str_arr)\n",
    "print(\"Size (bytes):\", unicode_str_arr.nbytes, \"| Each item:\", unicode_str_arr.itemsize)\n",
    "\n",
    "print(\"─\" * 50)\n",
    "\n",
    "# ─────────────────────────────────────────────\n",
    "# 🧩 Object array (can hold anything but slow)\n",
    "obj_arr = np.array([1, \"hello\", True], dtype=object)\n",
    "print(\"Object array:\", obj_arr)\n",
    "print(\"Size per item may vary; object dtype is flexible\")\n",
    "print(\"Total estimated size:\", obj_arr.nbytes)  # May not show true memory\n",
    "print(\"Each item size:\", obj_arr.itemsize)\n",
    "\n",
    "print(\"─\" * 50)\n",
    "\n",
    "# 📌 Bonus: Manual dtype info\n",
    "print(\"Manual check - dtype 'int32':\", np.dtype('int32').itemsize, \"bytes\")\n",
    "print(\"Manual check - dtype 'U10':\", np.dtype('U10').itemsize, \"bytes (10×4 = 40)\")\n"
   ]
  },
  {
   "cell_type": "code",
   "execution_count": 30,
   "id": "df603590",
   "metadata": {},
   "outputs": [
    {
     "name": "stdout",
     "output_type": "stream",
     "text": [
      "the object is now behaving like a function this is call magic/dunder method\n"
     ]
    }
   ],
   "source": [
    "class Vector:\n",
    "    def __init__(self,x,y):\n",
    "        self.x=x\n",
    "        self.y=y\n",
    "        \n",
    "        \n",
    "    def __add__(self,others):\n",
    "        return Vector(self.x+others.x,self.y+others.y)\n",
    "    \n",
    "    \n",
    "    def __repr__(self):\n",
    "        return f\"X:{self.x} Y:{self.y}\"    \n",
    "    \n",
    "    def __call__(self):\n",
    "        print( 'the object is now behaving like a function this is call magic/dunder method')\n",
    "    \n",
    "v1=Vector(10,30)    \n",
    "v2=Vector(30,90) \n",
    "v3=v1+v2 \n",
    "\n",
    "v3()"
   ]
  },
  {
   "cell_type": "code",
   "execution_count": 31,
   "id": "677b24a5",
   "metadata": {},
   "outputs": [
    {
     "name": "stdout",
     "output_type": "stream",
     "text": [
      "Before function\n",
      "Hello Aryan!\n",
      "After function\n"
     ]
    }
   ],
   "source": [
    "def outer_decorator(func):      # yeh decorator function hai\n",
    "    def wrapper():\n",
    "        print(\"Before function\")\n",
    "        func()\n",
    "        print(\"After function\")\n",
    "    return wrapper\n",
    "\n",
    "@outer_decorator\n",
    "def greet():\n",
    "    print(\"Hello Aryan!\")\n",
    "\n",
    "greet()\n"
   ]
  },
  {
   "cell_type": "code",
   "execution_count": 33,
   "id": "7b455332",
   "metadata": {},
   "outputs": [
    {
     "name": "stdout",
     "output_type": "stream",
     "text": [
      "Result: 5.0\n",
      "Denominator 0 nahi ho sakta! divide \n"
     ]
    }
   ],
   "source": [
    "def smart_divide(func):\n",
    "    def wrapper(a, b):\n",
    "        if b == 0:\n",
    "            print(\"Denominator 0 nahi ho sakta! divide \")\n",
    "            return\n",
    "        return func(a, b)\n",
    "    return wrapper\n",
    "\n",
    "@smart_divide\n",
    "def divide(a, b):\n",
    "    print(\"Result:\", a / b)\n",
    "\n",
    "divide(10, 2)  # ✅\n",
    "divide(5, 0)   # ❌\n"
   ]
  },
  {
   "cell_type": "code",
   "execution_count": null,
   "id": "f85f834f",
   "metadata": {},
   "outputs": [
    {
     "name": "stdout",
     "output_type": "stream",
     "text": [
      "Function 'say_hello' start ho raha hai...\n",
      "Namaste Aryan!\n",
      "Function 'say_hello' khatam ho gaya.\n"
     ]
    }
   ],
   "source": [
    "\n",
    "def log_decorator(func):\n",
    "    def wrapper(*args, **kwargs):\n",
    "        print(f\"Function '{func.__name__}' start ho raha hai...\")\n",
    "        result = func(*args, **kwargs)\n",
    "        print(f\"Function '{func.__name__}' khatam ho gaya.\")\n",
    "        return result\n",
    "    return wrapper\n",
    "\n",
    "@log_decorator\n",
    "def say_hello():\n",
    "    print(\"Namaste Aryan!\")\n",
    "\n",
    "say_hello()\n"
   ]
  },
  {
   "cell_type": "code",
   "execution_count": 38,
   "id": "3b42a87c",
   "metadata": {},
   "outputs": [
    {
     "name": "stdout",
     "output_type": "stream",
     "text": [
      "Kaam ho gaya! jaldi\n",
      "Function 'quick_task' ne 0.0002 seconds liye.\n",
      "Kaam ho gaya!\n",
      "Function 'long_task' ne 2.0055 seconds liye.\n"
     ]
    }
   ],
   "source": [
    "import time\n",
    "\n",
    "def timer_decorator(func):\n",
    "    def wrapper(*args, **kwargs):\n",
    "        start = time.time()\n",
    "        result = func(*args, **kwargs)\n",
    "        end = time.time()\n",
    "        print(f\"Function '{func.__name__}' ne {end - start:.4f} seconds liye.\")\n",
    "        return result\n",
    "    return wrapper\n",
    "\n",
    "@timer_decorator\n",
    "def long_task():\n",
    "    time.sleep(2)  # 2 second ka delay\n",
    "    print(\"Kaam ho gaya!\")\n",
    "    \n",
    "@timer_decorator\n",
    "def quick_task():\n",
    "  \n",
    "    print(\"Kaam ho gaya! jaldi\")\n",
    "\n",
    "quick_task()\n",
    "long_task()\n",
    "\n"
   ]
  },
  {
   "cell_type": "code",
   "execution_count": 39,
   "id": "cd7fef80",
   "metadata": {},
   "outputs": [
    {
     "name": "stdout",
     "output_type": "stream",
     "text": [
      "<b><i>Aryan</i>\n",
      "</b>\n"
     ]
    }
   ],
   "source": [
    "def bold_decorator(func):\n",
    "    def wrapper():\n",
    "        print(\"<b>\", end=\"\")\n",
    "        func()\n",
    "        print(\"</b>\")\n",
    "    return wrapper\n",
    "\n",
    "def italic_decorator(func):\n",
    "    def wrapper():\n",
    "        print(\"<i>\", end=\"\")\n",
    "        func()\n",
    "        print(\"</i>\")\n",
    "    return wrapper\n",
    "\n",
    "@bold_decorator\n",
    "@italic_decorator\n",
    "def say_name():\n",
    "    print(\"Aryan\", end=\"\")\n",
    "\n",
    "say_name()\n"
   ]
  },
  {
   "cell_type": "code",
   "execution_count": 40,
   "id": "eeacc175",
   "metadata": {},
   "outputs": [
    {
     "name": "stdout",
     "output_type": "stream",
     "text": [
      "IIT\n",
      "NIT\n"
     ]
    }
   ],
   "source": [
    "class Student:\n",
    "    college_name = \"IIT\"\n",
    "\n",
    "    def __init__(self, name):\n",
    "        self.name = name\n",
    "\n",
    "    @classmethod\n",
    "    def change_college(cls, new_name): #class instance ko access karna hai toh cls ka use karege ( java m global variable wesa kuch)\n",
    "        cls.college_name = new_name\n",
    "\n",
    "print(Student.college_name)        # IIT\n",
    "Student.change_college(\"NIT\")\n",
    "print(Student.college_name)        # NIT\n"
   ]
  },
  {
   "cell_type": "code",
   "execution_count": null,
   "id": "fb269804",
   "metadata": {},
   "outputs": [],
   "source": [
    "class MathUtils:\n",
    "    @staticmethod\n",
    "    def add(a, b): # static methods m self lagane ki koi jarurat nhi hoti hai but function class k andar hona chahiye\n",
    "        return a + b\n",
    "\n",
    "print(MathUtils.add(5, 7))  # 12\n"
   ]
  },
  {
   "cell_type": "code",
   "execution_count": 42,
   "id": "a0709831",
   "metadata": {},
   "outputs": [
    {
     "name": "stdout",
     "output_type": "stream",
     "text": [
      "True\n",
      "False\n",
      "Aryan's balance is ₹5000\n"
     ]
    }
   ],
   "source": [
    "class BankAccount:\n",
    "    bank_name = \"State Bank of India\"\n",
    "\n",
    "    def __init__(self, holder, balance):\n",
    "        self.holder = holder\n",
    "        self.balance = balance\n",
    "\n",
    "    def show_balance(self):\n",
    "        print(f\"{self.holder}'s balance is ₹{self.balance}\")\n",
    "\n",
    "    @staticmethod\n",
    "    def is_valid_account_number(ac_number):\n",
    "        \"\"\"\n",
    "        Static method: Validates if the account number is 10 digits\n",
    "        Doesn't depend on 'self' or 'cls'\n",
    "        \"\"\"\n",
    "        return len(str(ac_number)) == 10 and str(ac_number).isdigit()\n",
    "\n",
    "print(BankAccount.is_valid_account_number(1234567890))  # ✅ True\n",
    "print(BankAccount.is_valid_account_number(\"abc12382vg\"))    # ❌ False\n",
    "\n",
    "acc = BankAccount(\"Aryan\", 5000)\n",
    "acc.show_balance()  # Aryan's balance is ₹5000\n"
   ]
  },
  {
   "cell_type": "code",
   "execution_count": null,
   "id": "98ac7665",
   "metadata": {},
   "outputs": [
    {
     "name": "stdout",
     "output_type": "stream",
     "text": [
      "30.959144000000002\n"
     ]
    }
   ],
   "source": [
    "class Circle:\n",
    "    def __init__(self, radius):\n",
    "        self._radius = radius\n",
    "\n",
    "    @property\n",
    "    def area(self): # method ko function se ek attribute bana deta hai \n",
    "        return 3.14 * self._radius * self._radius\n",
    "\n",
    "c = Circle(5)\n",
    "print(c.area)   # 78.5 (without using parentheses)\n"
   ]
  },
  {
   "cell_type": "code",
   "execution_count": 47,
   "id": "4bc42bad",
   "metadata": {},
   "outputs": [
    {
     "name": "stdout",
     "output_type": "stream",
     "text": [
      "B\n"
     ]
    }
   ],
   "source": [
    "class Student:\n",
    "    def __init__(self, marks):\n",
    "        self._marks = marks\n",
    "\n",
    "    @property\n",
    "    def grade(self):\n",
    "        if self._marks >= 90:\n",
    "            return \"A\"\n",
    "        elif self._marks >= 75:\n",
    "            return \"B\"\n",
    "        else:\n",
    "            return \"C\"\n",
    "\n",
    "s = Student(82)\n",
    "print(s.grade)  # ✅ No (), output: \"B\"\n"
   ]
  },
  {
   "cell_type": "code",
   "execution_count": 51,
   "id": "ff9496fc",
   "metadata": {},
   "outputs": [
    {
     "name": "stdout",
     "output_type": "stream",
     "text": [
      "Getting radius...\n",
      "7\n",
      "Calculating diameter...\n",
      "14\n",
      "Calculating circumference...\n",
      "43.982297150257104\n",
      "Calculating area...\n",
      "153.93804002589985\n"
     ]
    }
   ],
   "source": [
    "import math\n",
    "\n",
    "class Circle:\n",
    "    def __init__(self, radius):\n",
    "        self._radius = radius  # private attribute\n",
    "\n",
    "    @property\n",
    "    def radius(self):\n",
    "        print(\"Getting radius...\")\n",
    "        return self._radius\n",
    "\n",
    "    @property\n",
    "    def diameter(self):\n",
    "        print(\"Calculating diameter...\")\n",
    "        return 2 * self._radius\n",
    "\n",
    "    @property\n",
    "    def circumference(self):\n",
    "        print(\"Calculating circumference...\")\n",
    "        return 2 * math.pi * self._radius\n",
    "\n",
    "    @property\n",
    "    def area(self):\n",
    "        print(\"Calculating area...\")\n",
    "        return math.pi * self._radius ** 2\n",
    "\n",
    "\n",
    "c = Circle(7)\n",
    "\n",
    "print(c.radius)         # Getting radius... => 7\n",
    "print(c.diameter)       # Calculating diameter... => 14\n",
    "print(c.circumference)  # Calculating circumference... => ~43.98\n",
    "print(c.area)           # Calculating area... => ~153.94\n"
   ]
  },
  {
   "cell_type": "code",
   "execution_count": null,
   "id": "550a2fc0",
   "metadata": {},
   "outputs": [],
   "source": [
    "class Student:\n",
    "    college = \"IIT\"\n",
    "\n",
    "    @classmethod\n",
    "    def change_college(cls, name):\n",
    "        cls.college = name\n",
    "\n",
    "class BTechStudent(Student):\n",
    "    pass\n",
    "\n",
    "BTechStudent.change_college(\"NIT\")\n",
    "\n",
    "print(Student.college)         # 👉 IIT\n",
    "print(BTechStudent.college)    # 👉 NIT ✅\n"
   ]
  }
 ],
 "metadata": {
  "kernelspec": {
   "display_name": "Python 3",
   "language": "python",
   "name": "python3"
  },
  "language_info": {
   "codemirror_mode": {
    "name": "ipython",
    "version": 3
   },
   "file_extension": ".py",
   "mimetype": "text/x-python",
   "name": "python",
   "nbconvert_exporter": "python",
   "pygments_lexer": "ipython3",
   "version": "3.9.6"
  }
 },
 "nbformat": 4,
 "nbformat_minor": 5
}
