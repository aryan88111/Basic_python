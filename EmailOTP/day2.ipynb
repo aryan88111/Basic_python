{
 "cells": [
  {
   "cell_type": "code",
   "execution_count": 12,
   "id": "a38cf96f",
   "metadata": {},
   "outputs": [
    {
     "name": "stdout",
     "output_type": "stream",
     "text": [
      "85\n"
     ]
    }
   ],
   "source": [
    "data = {\n",
    "    \"status\": \"success\",\n",
    "    \"result\": {\n",
    "        \"score\": 85\n",
    "    }\n",
    "}\n",
    "\n",
    "score = data.get(\"result\", {}).get(\"score\", 0)\n",
    "print(score)  # Output: 85\n"
   ]
  },
  {
   "cell_type": "code",
   "execution_count": 13,
   "id": "35f3a575",
   "metadata": {},
   "outputs": [
    {
     "name": "stdout",
     "output_type": "stream",
     "text": [
      "999911111111\n"
     ]
    }
   ],
   "source": [
    "form_data = {\n",
    "    \"username\": \"aryan123\",\n",
    "    \"email\": \"aryan@gmail.com\",\n",
    "    \"mobile\":999911111111\n",
    "}\n",
    "\n",
    "mobile = form_data.get(\"mobile\", \"Not Provided\")\n",
    "print(mobile)  # Output: Not Provided\n"
   ]
  },
  {
   "cell_type": "code",
   "execution_count": 14,
   "id": "68661dc7",
   "metadata": {},
   "outputs": [
    {
     "name": "stdout",
     "output_type": "stream",
     "text": [
      "BMW runs at 220 km/h\n"
     ]
    }
   ],
   "source": [
    "## oops in python \n",
    "\n",
    "\n",
    "class Car:\n",
    "    def __init__(self,brand,speed):\n",
    "        self.brand=brand\n",
    "        self.speed=speed\n",
    "        \n",
    "    def show(self):\n",
    "        print(f\"{self.brand} runs at {self.speed} km/h\")    \n",
    "        \n",
    "\n",
    "c1 = Car(\"BMW\", 220)\n",
    "c2 = Car(\"Audi\", 240)\n",
    "c3 = Car(\"Tesla\", 250)\n",
    "c4 = Car(\"Maruti\", 150)\n",
    "c5 = Car(\"Tata\", 160)\n",
    "\n",
    "c1.show()        "
   ]
  },
  {
   "cell_type": "code",
   "execution_count": 15,
   "id": "fa24be3a",
   "metadata": {},
   "outputs": [
    {
     "name": "stdout",
     "output_type": "stream",
     "text": [
      "1500\n"
     ]
    }
   ],
   "source": [
    "# Encapsulation\n",
    "\n",
    "class BankAccount:\n",
    "    def __init__(self, balance):\n",
    "        self.__balance = balance  # private variable\n",
    "\n",
    "    def deposit(self, amount):\n",
    "        self.__balance += amount\n",
    "\n",
    "    def get_balance(self):\n",
    "        return self.__balance\n",
    "\n",
    "a1 = BankAccount(1000)\n",
    "a1.deposit(500)\n",
    "print(a1.get_balance())  # 1500\n"
   ]
  },
  {
   "cell_type": "code",
   "execution_count": 30,
   "id": "612dfc3e",
   "metadata": {},
   "outputs": [
    {
     "name": "stdout",
     "output_type": "stream",
     "text": [
      "some generic sound\n",
      "Woof Woof\n"
     ]
    }
   ],
   "source": [
    "#Inheritance\n",
    "\n",
    "class Animal:\n",
    "    def sound(self):\n",
    "        print(\"some generic sound\")\n",
    " \n",
    "class Dog(Animal):\n",
    "  \n",
    "    def bark(self):\n",
    "        super().sound()\n",
    "        print(\"Woof Woof\")\n",
    "        \n",
    "class Cat(Animal):\n",
    "    def sound(self):\n",
    "        print(\" ho gaya override m\")\n",
    "    \n",
    "    def sound(self,extra=None):\n",
    "        print(f\"hogaya fun overload and yeh hai {extra} \")    \n",
    "    \n",
    "    def meow(self):\n",
    "        print(\"Meowww\")\n",
    "        \n",
    "        \n",
    "        \n",
    "# c= Cat()\n",
    "# c.sound()        \n",
    "# c.sound(\"billi\")        \n",
    "# c.meow()  \n",
    "\n",
    "d=Dog()\n",
    "d.bark()     \n",
    "                    "
   ]
  },
  {
   "cell_type": "code",
   "execution_count": 31,
   "id": "482e0260",
   "metadata": {},
   "outputs": [
    {
     "name": "stdout",
     "output_type": "stream",
     "text": [
      "Car started\n",
      "Bike started\n"
     ]
    }
   ],
   "source": [
    "from abc import ABC, abstractmethod\n",
    "\n",
    "class Vehicle(ABC):\n",
    "    @abstractmethod\n",
    "    def start(self):\n",
    "        pass\n",
    "\n",
    "class Car(Vehicle):\n",
    "    def start(self):\n",
    "        print(\"Car started\")\n",
    "\n",
    "class Bike(Vehicle):\n",
    "    def start(self):\n",
    "        print(\"Bike started\")\n",
    "\n",
    "v1 = Car()\n",
    "v1.start()\n",
    "\n",
    "v2 = Bike()\n",
    "v2.start()\n"
   ]
  },
  {
   "cell_type": "code",
   "execution_count": 33,
   "id": "5b55c52d",
   "metadata": {},
   "outputs": [
    {
     "name": "stdout",
     "output_type": "stream",
     "text": [
      "Python is amazing.\n",
      "I love coding.\n",
      "Git is powerful.\n",
      "React is fun.\n",
      "JavaScript rocks.\n"
     ]
    }
   ],
   "source": [
    "def read_file_line_by_line(path):\n",
    "    with open(\"input.txt\", \"r\") as file:\n",
    "        for line in file:\n",
    "            yield line.strip()\n",
    "\n",
    "# file ka har line ek-ek karke milega\n",
    "for line in read_file_line_by_line(\"input.txt\"):\n",
    "    print(line)\n"
   ]
  }
 ],
 "metadata": {
  "kernelspec": {
   "display_name": "Python 3",
   "language": "python",
   "name": "python3"
  },
  "language_info": {
   "codemirror_mode": {
    "name": "ipython",
    "version": 3
   },
   "file_extension": ".py",
   "mimetype": "text/x-python",
   "name": "python",
   "nbconvert_exporter": "python",
   "pygments_lexer": "ipython3",
   "version": "3.9.6"
  }
 },
 "nbformat": 4,
 "nbformat_minor": 5
}
