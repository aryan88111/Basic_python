{
 "cells": [
  {
   "cell_type": "code",
   "execution_count": 74,
   "id": "9b3f3efb",
   "metadata": {},
   "outputs": [
    {
     "data": {
      "text/plain": [
       "True"
      ]
     },
     "execution_count": 74,
     "metadata": {},
     "output_type": "execute_result"
    }
   ],
   "source": [
    "# Install and import Gemini SDK\n",
    "# !pip install -q google-generativeai\n",
    "\n",
    "import google.generativeai as genai\n",
    "import json\n",
    "import re\n",
    "import os\n",
    "import ast\n",
    "from dotenv import load_dotenv\n",
    "load_dotenv()"
   ]
  },
  {
   "cell_type": "code",
   "execution_count": 75,
   "id": "ee97e487",
   "metadata": {},
   "outputs": [],
   "source": [
    "\n",
    "\n",
    "api_key=os.getenv(\"GEMINI_API_KEY\")\n",
    "\n",
    "genai.configure(api_key=api_key)\n",
    "model=genai.GenerativeModel(model_name=\"models/gemini-2.5-pro\")\n",
    "\n"
   ]
  },
  {
   "cell_type": "code",
   "execution_count": null,
   "id": "a2d88d5f",
   "metadata": {},
   "outputs": [],
   "source": [
    "#  Define a dummy function (simulating LangChain tools/functions)\n",
    "def get_current_weather(location, unit=\"celsius\"):\n",
    "    \"\"\"Get the current weather in a given location\"\"\"\n",
    "    weather_info = {\n",
    "        \"location\": location,\n",
    "        \"temperature\": \"72\",\n",
    "        \"unit\": unit,\n",
    "        \"forecast\": [\"sunny\", \"windy\"],\n",
    "    }\n",
    "    return json.dumps(weather_info)\n"
   ]
  },
  {
   "cell_type": "code",
   "execution_count": 77,
   "id": "d53a0b26",
   "metadata": {},
   "outputs": [
    {
     "name": "stdout",
     "output_type": "stream",
     "text": [
      "Gemini Output:\n",
      " get_current_weather(location=\"bangalore jp nagar\", unit=\"celsius\")\n"
     ]
    }
   ],
   "source": [
    "# Prompt Gemini to suggest a function call\n",
    "prompt = \"\"\"\n",
    "You are a weather assistant. When asked about the weather, respond with a Python-style function call like:\n",
    "get_current_weather(location=\"bangalore jp nagar\", unit=\"celsius\")\n",
    "\n",
    "Now, tell me: What's the weather like in bangalore jp nagar using celsius?\n",
    "\"\"\"\n",
    "\n",
    "response = model.generate_content(prompt)\n",
    "print(\"Gemini Output:\\n\", response.text)\n"
   ]
  },
  {
   "cell_type": "code",
   "execution_count": 78,
   "id": "962d84a9",
   "metadata": {},
   "outputs": [
    {
     "name": "stdout",
     "output_type": "stream",
     "text": [
      "Parsed Args: {'location': 'bangalore jp nagar', 'unit': 'celsius'}\n",
      "Weather Function Result: {\"location\": \"bangalore jp nagar\", \"unit\": \"celsius\", \"forecast\": [\"sunny\", \"windy\"]}\n"
     ]
    }
   ],
   "source": [
    "#  Parse function call from Gemini response\n",
    "match = re.search(r'get_current_weather\\((.*?)\\)', response.text)\n",
    "\n",
    "if match:\n",
    "    args_str = match.group(1)\n",
    "    # args = dict(eval(f\"dict({args_str})\"))  # Convert string to dictionary. it is unsafe to use eval directly\n",
    "    # safe_args_str = re.sub(r'(\\w+)=', r'\"\\1\"=', args_str) # Ensure keys are strings\n",
    "    # safe_args_str = safe_args_str.replace('=', ':') # Replace '=' with ':' for JSON-like format\n",
    "    \n",
    "    \n",
    "    # import ast\n",
    "    # args = ast.literal_eval(f\"{{{safe_args_str}}}\")\n",
    "    args = dict(re.findall(r'(\\w+)=\"([^\"]*)\"', args_str))\n",
    "    \n",
    "    \n",
    "    \n",
    "    print(\"Parsed Args:\", args)\n",
    "\n",
    "    # Call the function\n",
    "    result = get_current_weather(**args)\n",
    "    print(\"Weather Function Result:\", result)\n",
    "else:\n",
    "    print(\"No function call detected.\")\n"
   ]
  },
  {
   "cell_type": "code",
   "execution_count": null,
   "id": "2a258842",
   "metadata": {},
   "outputs": [
    {
     "name": "stdout",
     "output_type": "stream",
     "text": [
      "Final User Output:\n",
      " Based on the data provided:\n",
      "\n",
      "It's a sunny and windy day in Bangalore JP Nagar!\n",
      "\n",
      "Unfortunately, the specific temperature was not included in the data you provided.\n"
     ]
    }
   ],
   "source": [
    "# Use Gemini again to summarize the result\n",
    "summary_prompt = f\"The current weather data is: {result}. Please summarize this nicely. write the summary and give the temperature  \"\n",
    "final_response = model.generate_content(summary_prompt)\n",
    "\n",
    "print(\"Final User Output:\\n\", final_response.text)\n"
   ]
  },
  {
   "cell_type": "code",
   "execution_count": 80,
   "id": "523a4127",
   "metadata": {},
   "outputs": [
    {
     "data": {
      "text/plain": [
       "''"
      ]
     },
     "execution_count": 80,
     "metadata": {},
     "output_type": "execute_result"
    }
   ],
   "source": [
    "from fpdf import FPDF\n",
    "\n",
    "# Create PDF instance\n",
    "pdf = FPDF()\n",
    "pdf.add_page()\n",
    "pdf.set_auto_page_break(auto=True, margin=15)\n",
    "pdf.set_font(\"Arial\", size=12)\n",
    "\n",
    "# Wrap the response text (multiline)\n",
    "text = final_response.text\n",
    "for line in text.split('\\n'):\n",
    "    pdf.multi_cell(0, 10, line)\n",
    "\n",
    "# Save PDF file\n",
    "pdf.output(\"output.pdf\")"
   ]
  }
 ],
 "metadata": {
  "kernelspec": {
   "display_name": "3.12.11",
   "language": "python",
   "name": "python3"
  },
  "language_info": {
   "codemirror_mode": {
    "name": "ipython",
    "version": 3
   },
   "file_extension": ".py",
   "mimetype": "text/x-python",
   "name": "python",
   "nbconvert_exporter": "python",
   "pygments_lexer": "ipython3",
   "version": "3.12.11"
  }
 },
 "nbformat": 4,
 "nbformat_minor": 5
}
