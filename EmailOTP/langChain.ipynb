{
 "cells": [
  {
   "cell_type": "code",
   "execution_count": 21,
   "id": "9b3f3efb",
   "metadata": {},
   "outputs": [
    {
     "data": {
      "text/plain": [
       "True"
      ]
     },
     "execution_count": 21,
     "metadata": {},
     "output_type": "execute_result"
    }
   ],
   "source": [
    "# ✅ Cell 1: Install and import Gemini SDK\n",
    "# !pip install -q google-generativeai\n",
    "\n",
    "import google.generativeai as genai\n",
    "import json\n",
    "import re\n",
    "import os\n",
    "from dotenv import load_dotenv\n",
    "load_dotenv()"
   ]
  },
  {
   "cell_type": "code",
   "execution_count": 22,
   "id": "ee97e487",
   "metadata": {},
   "outputs": [],
   "source": [
    "\n",
    "\n",
    "api_key=os.getenv(\"GEMINI_API_KEY\")\n",
    "\n",
    "genai.configure(api_key=api_key)\n",
    "model=genai.GenerativeModel(model_name=\"models/gemini-2.5-pro\")\n",
    "\n"
   ]
  },
  {
   "cell_type": "code",
   "execution_count": null,
   "id": "a2d88d5f",
   "metadata": {},
   "outputs": [],
   "source": [
    "#  Define a dummy function (simulating LangChain tools/functions)\n",
    "def get_current_weather(location, unit=\"celsius\"):\n",
    "    \"\"\"Get the current weather in a given location\"\"\"\n",
    "    weather_info = {\n",
    "        \"location\": location,\n",
    "        \"temperature\": \"72\",\n",
    "        \"unit\": unit,\n",
    "        \"forecast\": [\"sunny\", \"windy\"],\n",
    "    }\n",
    "    return json.dumps(weather_info)\n"
   ]
  },
  {
   "cell_type": "code",
   "execution_count": null,
   "id": "d53a0b26",
   "metadata": {},
   "outputs": [
    {
     "name": "stdout",
     "output_type": "stream",
     "text": [
      "Gemini Output:\n",
      " ```python\n",
      "get_current_weather(location=\"bangalore jp nagar\", unit=\"celsius\")\n",
      "```\n"
     ]
    }
   ],
   "source": [
    "# Prompt Gemini to suggest a function call\n",
    "prompt = \"\"\"\n",
    "You are a weather assistant. When asked about the weather, respond with a Python-style function call like:\n",
    "get_current_weather(location=\"bangalore jp nagar\", unit=\"celsius\")\n",
    "\n",
    "Now, tell me: What's the weather like in bangalore jp nagar using celsius?\n",
    "\"\"\"\n",
    "\n",
    "response = model.generate_content(prompt)\n",
    "print(\"Gemini Output:\\n\", response.text)\n"
   ]
  },
  {
   "cell_type": "code",
   "execution_count": null,
   "id": "962d84a9",
   "metadata": {},
   "outputs": [
    {
     "name": "stdout",
     "output_type": "stream",
     "text": [
      "Parsed Args: {'location': 'bangalore jp nagar', 'unit': 'celsius'}\n",
      "Weather Function Result: {\"location\": \"bangalore jp nagar\", \"temperature\": \"72\", \"unit\": \"celsius\", \"forecast\": [\"sunny\", \"windy\"]}\n"
     ]
    }
   ],
   "source": [
    "#  Parse function call from Gemini response\n",
    "match = re.search(r'get_current_weather\\((.*?)\\)', response.text)\n",
    "\n",
    "if match:\n",
    "    args_str = match.group(1)\n",
    "    args = dict(eval(f\"dict({args_str})\"))  # Convert string to dictionary\n",
    "    print(\"Parsed Args:\", args)\n",
    "\n",
    "    # Call the function\n",
    "    result = get_current_weather(**args)\n",
    "    print(\"Weather Function Result:\", result)\n",
    "else:\n",
    "    print(\"No function call detected.\")\n"
   ]
  },
  {
   "cell_type": "code",
   "execution_count": null,
   "id": "2a258842",
   "metadata": {},
   "outputs": [
    {
     "name": "stdout",
     "output_type": "stream",
     "text": [
      "Final User Output:\n",
      " Of course! Here is a nice summary of the weather in Bangalore's JP Nagar:\n",
      "\n",
      "It's a beautiful, sunny, and windy day in **Bangalore, JP Nagar**! The current temperature is a very pleasant **72°F (about 22°C)**.\n"
     ]
    }
   ],
   "source": [
    "# Use Gemini again to summarize the result\n",
    "summary_prompt = f\"The current weather data is: {result}. Please summarize this nicely.\"\n",
    "final_response = model.generate_content(summary_prompt)\n",
    "\n",
    "print(\"Final User Output:\\n\", final_response.text)\n"
   ]
  }
 ],
 "metadata": {
  "kernelspec": {
   "display_name": "Python 3",
   "language": "python",
   "name": "python3"
  },
  "language_info": {
   "codemirror_mode": {
    "name": "ipython",
    "version": 3
   },
   "file_extension": ".py",
   "mimetype": "text/x-python",
   "name": "python",
   "nbconvert_exporter": "python",
   "pygments_lexer": "ipython3",
   "version": "3.12.11"
  }
 },
 "nbformat": 4,
 "nbformat_minor": 5
}
